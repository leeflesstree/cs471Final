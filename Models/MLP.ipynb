{
  "cells": [
    {
      "cell_type": "code",
      "execution_count": 1,
      "metadata": {
        "id": "iCIS2Db3ayvw"
      },
      "outputs": [
        {
          "name": "stdout",
          "output_type": "stream",
          "text": [
            "Device: cuda\n"
          ]
        }
      ],
      "source": [
        "from dataclasses import dataclass\n",
        "import os\n",
        "from collections import Counter\n",
        "\n",
        "import pandas as pd\n",
        "import torch\n",
        "from torch.utils.data import TensorDataset, DataLoader\n",
        "import torch.nn as nn\n",
        "import torch.nn.functional as F\n",
        "import torch.optim as optim\n",
        "from imblearn.over_sampling import SMOTE\n",
        "# from google.colab import drive\n",
        "from sklearn.metrics import confusion_matrix, ConfusionMatrixDisplay, classification_report\n",
        "import matplotlib.pyplot as plt\n",
        "import optuna\n",
        "from tqdm import tqdm\n",
        "\n",
        "device = torch.device(\"cuda\" if torch.cuda.is_available() else \"cpu\")\n",
        "print(f\"Device: {device}\")"
      ]
    },
    {
      "cell_type": "code",
      "execution_count": 2,
      "metadata": {
        "id": "wLL_HJiHbJKM"
      },
      "outputs": [],
      "source": [
        "# Config\n",
        "\n",
        "@dataclass\n",
        "class Config:\n",
        "  epochs: int = 1000\n",
        "  batch_size: int = 32\n",
        "  dropout_p: float = 0\n",
        "  lr: float = 1e-3\n",
        "  weight_decay: float = 1e-2"
      ]
    },
    {
      "cell_type": "code",
      "execution_count": 3,
      "metadata": {
        "id": "n5tnhgIUduD3"
      },
      "outputs": [],
      "source": [
        "# Function to return a Dataset object from a dataset path\n",
        "\n",
        "def load_landmark_csv(filepath, use_smote=False):\n",
        "    # Hardcoded label to index mapping\n",
        "    label_to_index = {\n",
        "      \"anger\": 0,\n",
        "      \"disgust\": 1,\n",
        "      \"fear\": 2,\n",
        "      \"happy\": 3,\n",
        "      \"sadness\": 4,\n",
        "      \"surprise\": 5,\n",
        "      \"contempt\": 6,\n",
        "    }\n",
        "\n",
        "    # Load the CSV\n",
        "    df = pd.read_csv(filepath)\n",
        "\n",
        "    # Extract features (exclude image_name and emotion)\n",
        "    feature_cols = df.columns[1:-1]\n",
        "    # features = torch.tensor(df[feature_cols].values, dtype=torch.float32)\n",
        "    features = df[feature_cols].values\n",
        "\n",
        "    # Map emotion labels to class indices\n",
        "    labels = df[\"emotion\"].map(label_to_index).values\n",
        "    # labels = torch.tensor(labels, dtype=torch.long)\n",
        "\n",
        "    # Use SMOTE to balance the train set\n",
        "    if use_smote:\n",
        "      smote = SMOTE()\n",
        "      features, labels = smote.fit_resample(features, labels)\n",
        "\n",
        "      # print(f\"After SMOTE, the train set contains: {dict(Counter(int(label) for label in labels))}\")\n",
        "\n",
        "    features = torch.tensor(features, dtype=torch.float32)\n",
        "    labels = torch.tensor(labels, dtype=torch.long)\n",
        "    dataset = TensorDataset(features, labels)\n",
        "    return dataset"
      ]
    },
    {
      "cell_type": "code",
      "execution_count": 4,
      "metadata": {
        "colab": {
          "base_uri": "https://localhost:8080/"
        },
        "id": "owo8YPzPftZ0",
        "outputId": "865e531a-9754-49ef-88bf-f1934c730fd4"
      },
      "outputs": [
        {
          "name": "stdout",
          "output_type": "stream",
          "text": [
            "Train Path: ../CK+ Dataset/features_train.csv\n",
            "Validation Path: ../CK+ Dataset/features_val.csv\n",
            "Test Path: ../CK+ Dataset/features_test.csv\n"
          ]
        }
      ],
      "source": [
        "# Get the dataset paths\n",
        "\n",
        "# Running on Colab\n",
        "# drive.mount('/content/drive')\n",
        "# dataset_path = \"/content/drive/My Drive/Colab Notebooks/CK+ Dataset/\"\n",
        "\n",
        "# Running locally\n",
        "dataset_path = os.path.join(\"..\", \"CK+ Dataset\")\n",
        "\n",
        "# Define the Train, Validation, and Test paths\n",
        "train_path = os.path.join(dataset_path, \"features_train.csv\")\n",
        "val_path = os.path.join(dataset_path, \"features_val.csv\")\n",
        "test_path = os.path.join(dataset_path, \"features_test.csv\")\n",
        "\n",
        "# Print the Train, Validation, and Test paths\n",
        "print(f\"Train Path: {train_path}\")\n",
        "print(f\"Validation Path: {val_path}\")\n",
        "print(f\"Test Path: {test_path}\")"
      ]
    },
    {
      "cell_type": "code",
      "execution_count": 5,
      "metadata": {
        "id": "F9sNhavNbGnX"
      },
      "outputs": [],
      "source": [
        "# Create DataLoaders for Train, Validation, and Test splits\n",
        "\n",
        "def create_loaders(batch_size):\n",
        "  # Create the trainloader from the Train split\n",
        "  trainset = load_landmark_csv(train_path, use_smote=True)\n",
        "  trainloader = torch.utils.data.DataLoader(trainset, batch_size=batch_size,\n",
        "                                            shuffle=True, num_workers=2)\n",
        "  # Create the valloader from the Validation split\n",
        "  valset = load_landmark_csv(val_path)\n",
        "  valloader = torch.utils.data.DataLoader(valset, batch_size=batch_size,\n",
        "                                            shuffle=True, num_workers=2)\n",
        "  # Create the testloader from the Test split\n",
        "  testset = load_landmark_csv(test_path)\n",
        "  testloader = torch.utils.data.DataLoader(testset, batch_size=batch_size,\n",
        "                                            shuffle=False, num_workers=2)\n",
        "  return trainloader, valloader, testloader"
      ]
    },
    {
      "cell_type": "code",
      "execution_count": 6,
      "metadata": {
        "id": "TLjqowpKjyGU"
      },
      "outputs": [],
      "source": [
        "# Function to build an MLP model\n",
        "\n",
        "# def build_mlp(config):\n",
        "def build_mlp(config, layers):\n",
        "\n",
        "    class MLP(nn.Module):\n",
        "        def __init__(self):\n",
        "            super().__init__()\n",
        "            self.mlp = nn.Sequential()\n",
        "            for i, (input_dim, output_dim) in enumerate(layers[:-1]):\n",
        "                self.mlp.add_module(f\"fc{i+1}\", nn.Linear(input_dim, output_dim))\n",
        "                self.mlp.add_module(f\"relu{i+1}\", nn.ReLU())\n",
        "                self.mlp.add_module(f\"dropout{i+1}\", nn.Dropout(p=config.dropout_p))\n",
        "            input_dim, output_dim = layers[-1]\n",
        "            self.mlp.add_module(f\"fc_final\", nn.Linear(input_dim, output_dim))      \n",
        "\n",
        "        def forward(self, x):\n",
        "            return self.mlp(x)\n",
        "    \n",
        "    return MLP()"
      ]
    },
    {
      "cell_type": "code",
      "execution_count": null,
      "metadata": {
        "id": "B4VaM0l4oyTT"
      },
      "outputs": [],
      "source": [
        "# Train the model\n",
        "\n",
        "def train(mlp, epochs, trainloader, valloader, criterion, optimizer, optuna=False):\n",
        "  print(f\"Training for {epochs} epochs...\")\n",
        "  progress_bar = None\n",
        "  train_losses = []\n",
        "  val_losses = []\n",
        "  for epoch in range(epochs):  # loop over the dataset multiple times\n",
        "      if progress_bar is None:\n",
        "        progress_bar = tqdm(total=100,\n",
        "                            unit=\" Epochs\",\n",
        "                            desc=f\"Epochs {epoch}-{epoch+100}\")\n",
        "      mlp.train()\n",
        "      running_loss = 0.0\n",
        "      for i, data in enumerate(trainloader, 0):\n",
        "          # get the inputs; data is a list of [inputs, labels]\n",
        "          features, labels = data\n",
        "          features, labels = features.to(device), labels.to(device)\n",
        "          # zero the parameter gradients\n",
        "          optimizer.zero_grad()\n",
        "\n",
        "          # forward + backward + optimize\n",
        "          outputs = mlp(features)\n",
        "          loss = criterion(outputs, labels)\n",
        "          loss.backward()\n",
        "          optimizer.step()\n",
        "\n",
        "          running_loss += loss.item()\n",
        "\n",
        "      progress_bar.update(1)\n",
        "\n",
        "      if epoch % 100 == 99:\n",
        "        progress_bar = None\n",
        "        avg_loss = running_loss / len(trainloader)\n",
        "        train_losses.append(avg_loss)\n",
        "        print(f\"Loss: {avg_loss:.4f}\")\n",
        "\n",
        "        mlp.eval()\n",
        "        min_val_loss = float('inf')\n",
        "        with torch.no_grad():\n",
        "            running_val_loss = 0.0\n",
        "            for val_features, val_labels in valloader:\n",
        "              val_features, val_labels = val_features.to(device), val_labels.to(device)\n",
        "              val_outputs = mlp(val_features)\n",
        "              val_loss = criterion(val_outputs, val_labels).item()\n",
        "              running_val_loss += val_loss\n",
        "              if val_loss < min_val_loss:\n",
        "                  min_val_loss = val_loss # update best val loss\n",
        "            avg_val_loss = running_val_loss / len(valloader)\n",
        "            val_losses.append(avg_val_loss)\n",
        "      \n",
        "  print(\"Finished Training\")\n",
        "  print(f\"\\n------------------------------------------------------------------------------\\n\")\n",
        "\n",
        "  if not optuna:\n",
        "    x_vals = list(range(100, epochs + 1, 100))\n",
        "    plt.plot(x_vals,\n",
        "             train_losses,\n",
        "             label=\"Train Loss\",\n",
        "             color=\"#00ffd0\")\n",
        "    plt.plot(x_vals,\n",
        "             val_losses,\n",
        "             label=\"Validation Loss\",\n",
        "             color=\"#ff00e3\")\n",
        "    plt.xlabel(\"Epochs\")\n",
        "    plt.ylabel(\"Loss\")\n",
        "    plt.title(\"Training and Validation Loss\")\n",
        "    plt.legend()\n",
        "    plt.savefig(f\"Loss_Curve.png\")\n",
        "\n",
        "  return min_val_loss"
      ]
    },
    {
      "cell_type": "code",
      "execution_count": 8,
      "metadata": {
        "colab": {
          "base_uri": "https://localhost:8080/",
          "height": 537
        },
        "id": "h1XsOVNZ1RK4",
        "outputId": "9f408b5b-4aac-4453-93c0-a991acbc2c62"
      },
      "outputs": [],
      "source": [
        "def eval(mlp, testloader, criterion, optimizer):\n",
        "    # Define class names and label indices\n",
        "    class_names = [\"Anger\", \"Disgust\", \"Fear\", \"Happiness\", \"Sadness\", \"Surprise\", \"Contempt\"]\n",
        "    label_order = list(range(len(class_names)))  # Create a list of indices for all classes\n",
        "\n",
        "    print(\"Evaluating on the test set...\")\n",
        "    mlp.eval()\n",
        "    running_test_loss = 0.0\n",
        "    all_preds = []\n",
        "    all_labels = []\n",
        "\n",
        "    # No gradient calculation during evaluation\n",
        "    with torch.no_grad():\n",
        "        for test_features, test_labels in testloader:\n",
        "            test_features, test_labels = test_features.to(device), test_labels.to(device)\n",
        "            test_outputs = mlp(test_features)\n",
        "            test_loss = criterion(test_outputs, test_labels)\n",
        "            running_test_loss += test_loss.item()\n",
        "\n",
        "            # Get predicted class indices (max value along the classes dimension)\n",
        "            preds = torch.argmax(test_outputs, dim=1)\n",
        "\n",
        "            # Store predictions and true labels\n",
        "            all_preds.extend(preds.cpu().numpy())\n",
        "            all_labels.extend(test_labels.cpu().numpy())\n",
        "\n",
        "    # Compute average test loss\n",
        "    avg_test_loss = running_test_loss / len(testloader)\n",
        "    print(f\"Test Loss: {avg_test_loss:.4f}\")\n",
        "\n",
        "    # Compute and display confusion matrix with fixed class labels order\n",
        "    cm = confusion_matrix(all_labels, all_preds, labels=label_order)\n",
        "\n",
        "    # Create and display confusion matrix plot\n",
        "    disp = ConfusionMatrixDisplay(confusion_matrix=cm, display_labels=class_names)\n",
        "    disp.plot(cmap='magma', xticks_rotation=45)\n",
        "    plt.title(\"Confusion Matrix\")\n",
        "    # plt.show()\n",
        "    plt.savefig(\"Confusion_Matrix.png\")\n",
        "\n",
        "    print(\"\\nClassification Report:\")\n",
        "    print(classification_report(all_labels, all_preds, target_names=class_names, zero_division=0))"
      ]
    },
    {
      "cell_type": "code",
      "execution_count": 21,
      "metadata": {},
      "outputs": [],
      "source": [
        "# objective function for Optuna\n",
        "\n",
        "def objective(trial):\n",
        "    epochs = 1000\n",
        "\n",
        "    dropout_p = trial.suggest_float('dropout_p', 0, 0.5)\n",
        "    batch_size = trial.suggest_categorical('batch_size', [16, 32, 64, 128, 256])\n",
        "    n_layers = trial.suggest_int('n_layers', 1, 6)\n",
        "    lr = trial.suggest_float('lr', 1e-5, 1e-2)\n",
        "    weight_decay = trial.suggest_float('weight_decay', 1e-4, 1e-1)\n",
        "\n",
        "    input_dim = 25\n",
        "    output_dim = 7\n",
        "    layers = []\n",
        "    in_features = input_dim\n",
        "    for i in range(n_layers):\n",
        "        out_features = trial.suggest_int(f'Neurons in layer {i}', 7, in_features)\n",
        "        layers.append((in_features, out_features))\n",
        "        in_features = out_features\n",
        "                \n",
        "    layers.append((in_features, output_dim))\n",
        "\n",
        "    config = Config(dropout_p=dropout_p,\n",
        "                    batch_size=batch_size)\n",
        "\n",
        "    trainloader, valloader, testloader = create_loaders(config.batch_size)\n",
        "    mlp = build_mlp(config, layers).to(device)\n",
        "    criterion = nn.CrossEntropyLoss()\n",
        "    optimizer = optim.AdamW(mlp.parameters(), lr=config.lr, weight_decay=config.weight_decay)\n",
        "    min_val_loss = train(mlp, epochs, trainloader, valloader, criterion, optimizer, optuna=True)\n",
        "    return min_val_loss"
      ]
    },
    {
      "cell_type": "code",
      "execution_count": 25,
      "metadata": {
        "colab": {
          "base_uri": "https://localhost:8080/"
        },
        "id": "n5YrBAw3rDHT",
        "outputId": "fc0b7f83-483f-4f31-f9d8-438ccc59d6cf"
      },
      "outputs": [],
      "source": [
        "# Create an MLP, define the Loss function and optimizer, and train the model\n",
        "\n",
        "def optuna_log_callback(study, trial):\n",
        "     print(f\"Trial {trial.number}: Min validation loss was: {trial.value:.4f}\\n\"\n",
        "           f\"\\n------------------------------------------------------------------------------\\n\")\n",
        "\n",
        "def tune():\n",
        "    study = None\n",
        "    n_trials = 10\n",
        "    optuna.logging.set_verbosity(optuna.logging.WARNING)\n",
        "    study = optuna.create_study(study_name=\"MLP Study\", direction=\"minimize\")\n",
        "    study.optimize(objective, n_trials=n_trials, callbacks=[optuna_log_callback])\n",
        "\n",
        "    hyperparameters_str = \"Best hyperparameters:\\n\\n\"\n",
        "    for key, value in study.best_params.items():\n",
        "        hyperparameters_str += f\"{key}: {value}\\n\"\n",
        "\n",
        "    print(hyperparameters_str)\n",
        "\n",
        "    with open(\"hyperparameters.txt\", \"w\") as f:\n",
        "        f.write(hyperparameters_str)"
      ]
    },
    {
      "cell_type": "code",
      "execution_count": 26,
      "metadata": {},
      "outputs": [
        {
          "name": "stdout",
          "output_type": "stream",
          "text": [
            "Training for 1000 epochs...\n"
          ]
        },
        {
          "name": "stderr",
          "output_type": "stream",
          "text": [
            "Epochs 0-100: 100%|██████████| 100/100 [00:17<00:00,  5.62 Epochs/s]"
          ]
        },
        {
          "name": "stdout",
          "output_type": "stream",
          "text": [
            "Loss: 1.1450\n"
          ]
        },
        {
          "name": "stderr",
          "output_type": "stream",
          "text": [
            "\n",
            "Epochs 100-200: 100%|██████████| 100/100 [00:16<00:00,  5.90 Epochs/s]"
          ]
        },
        {
          "name": "stdout",
          "output_type": "stream",
          "text": [
            "Loss: 1.0063\n"
          ]
        },
        {
          "name": "stderr",
          "output_type": "stream",
          "text": [
            "\n",
            "Epochs 200-300: 100%|██████████| 100/100 [00:16<00:00,  6.03 Epochs/s]"
          ]
        },
        {
          "name": "stdout",
          "output_type": "stream",
          "text": [
            "Loss: 0.9347\n"
          ]
        },
        {
          "name": "stderr",
          "output_type": "stream",
          "text": [
            "\n",
            "Epochs 300-400: 100%|██████████| 100/100 [00:17<00:00,  5.70 Epochs/s]"
          ]
        },
        {
          "name": "stdout",
          "output_type": "stream",
          "text": [
            "Loss: 0.8957\n"
          ]
        },
        {
          "name": "stderr",
          "output_type": "stream",
          "text": [
            "\n",
            "Epochs 400-500: 100%|██████████| 100/100 [00:20<00:00,  4.96 Epochs/s]"
          ]
        },
        {
          "name": "stdout",
          "output_type": "stream",
          "text": [
            "Loss: 0.9322\n"
          ]
        },
        {
          "name": "stderr",
          "output_type": "stream",
          "text": [
            "\n",
            "Epochs 500-600: 100%|██████████| 100/100 [00:16<00:00,  6.00 Epochs/s]"
          ]
        },
        {
          "name": "stdout",
          "output_type": "stream",
          "text": [
            "Loss: 0.8417\n"
          ]
        },
        {
          "name": "stderr",
          "output_type": "stream",
          "text": [
            "\n",
            "Epochs 600-700: 100%|██████████| 100/100 [00:16<00:00,  6.12 Epochs/s]"
          ]
        },
        {
          "name": "stdout",
          "output_type": "stream",
          "text": [
            "Loss: 0.8522\n"
          ]
        },
        {
          "name": "stderr",
          "output_type": "stream",
          "text": [
            "\n",
            "Epochs 700-800: 100%|██████████| 100/100 [00:16<00:00,  6.01 Epochs/s]"
          ]
        },
        {
          "name": "stdout",
          "output_type": "stream",
          "text": [
            "Loss: 0.8762\n"
          ]
        },
        {
          "name": "stderr",
          "output_type": "stream",
          "text": [
            "\n",
            "Epochs 800-900: 100%|██████████| 100/100 [00:17<00:00,  5.62 Epochs/s]"
          ]
        },
        {
          "name": "stdout",
          "output_type": "stream",
          "text": [
            "Loss: 0.8177\n"
          ]
        },
        {
          "name": "stderr",
          "output_type": "stream",
          "text": [
            "\n",
            "Epochs 900-1000: 100%|██████████| 100/100 [00:16<00:00,  6.09 Epochs/s]"
          ]
        },
        {
          "name": "stdout",
          "output_type": "stream",
          "text": [
            "Loss: 0.8501\n"
          ]
        },
        {
          "name": "stderr",
          "output_type": "stream",
          "text": [
            "\n"
          ]
        },
        {
          "name": "stdout",
          "output_type": "stream",
          "text": [
            "Finished Training\n",
            "\n",
            "\n",
            "------------------------------------------------------------------------------\n",
            "\n",
            "Trial 0: Min validation loss was: 0.4716\n",
            "\n",
            "------------------------------------------------------------------------------\n",
            "\n",
            "Training for 1000 epochs...\n"
          ]
        },
        {
          "name": "stderr",
          "output_type": "stream",
          "text": [
            "Epochs 0-100: 100%|██████████| 100/100 [00:09<00:00, 10.56 Epochs/s]"
          ]
        },
        {
          "name": "stdout",
          "output_type": "stream",
          "text": [
            "Loss: 1.3563\n"
          ]
        },
        {
          "name": "stderr",
          "output_type": "stream",
          "text": [
            "\n",
            "Epochs 100-200: 100%|██████████| 100/100 [00:10<00:00,  9.93 Epochs/s]"
          ]
        },
        {
          "name": "stdout",
          "output_type": "stream",
          "text": [
            "Loss: 1.1882\n"
          ]
        },
        {
          "name": "stderr",
          "output_type": "stream",
          "text": [
            "\n",
            "Epochs 200-300: 100%|██████████| 100/100 [00:09<00:00, 10.69 Epochs/s]"
          ]
        },
        {
          "name": "stdout",
          "output_type": "stream",
          "text": [
            "Loss: 1.0906\n"
          ]
        },
        {
          "name": "stderr",
          "output_type": "stream",
          "text": [
            "\n",
            "Epochs 300-400: 100%|██████████| 100/100 [00:10<00:00,  9.71 Epochs/s]"
          ]
        },
        {
          "name": "stdout",
          "output_type": "stream",
          "text": [
            "Loss: 1.0259\n"
          ]
        },
        {
          "name": "stderr",
          "output_type": "stream",
          "text": [
            "\n",
            "Epochs 400-500: 100%|██████████| 100/100 [00:09<00:00, 10.33 Epochs/s]"
          ]
        },
        {
          "name": "stdout",
          "output_type": "stream",
          "text": [
            "Loss: 0.9707\n"
          ]
        },
        {
          "name": "stderr",
          "output_type": "stream",
          "text": [
            "\n",
            "Epochs 500-600: 100%|██████████| 100/100 [00:09<00:00, 10.67 Epochs/s]"
          ]
        },
        {
          "name": "stdout",
          "output_type": "stream",
          "text": [
            "Loss: 0.9582\n"
          ]
        },
        {
          "name": "stderr",
          "output_type": "stream",
          "text": [
            "\n",
            "Epochs 600-700: 100%|██████████| 100/100 [00:09<00:00, 10.77 Epochs/s]"
          ]
        },
        {
          "name": "stdout",
          "output_type": "stream",
          "text": [
            "Loss: 0.9320\n"
          ]
        },
        {
          "name": "stderr",
          "output_type": "stream",
          "text": [
            "\n",
            "Epochs 700-800: 100%|██████████| 100/100 [00:09<00:00, 10.71 Epochs/s]"
          ]
        },
        {
          "name": "stdout",
          "output_type": "stream",
          "text": [
            "Loss: 0.9112\n"
          ]
        },
        {
          "name": "stderr",
          "output_type": "stream",
          "text": [
            "\n",
            "Epochs 800-900: 100%|██████████| 100/100 [00:09<00:00, 10.66 Epochs/s]"
          ]
        },
        {
          "name": "stdout",
          "output_type": "stream",
          "text": [
            "Loss: 0.8602\n"
          ]
        },
        {
          "name": "stderr",
          "output_type": "stream",
          "text": [
            "\n",
            "Epochs 900-1000: 100%|██████████| 100/100 [00:09<00:00, 10.36 Epochs/s]"
          ]
        },
        {
          "name": "stdout",
          "output_type": "stream",
          "text": [
            "Loss: 0.8582\n"
          ]
        },
        {
          "name": "stderr",
          "output_type": "stream",
          "text": [
            "\n"
          ]
        },
        {
          "name": "stdout",
          "output_type": "stream",
          "text": [
            "Finished Training\n",
            "\n",
            "\n",
            "------------------------------------------------------------------------------\n",
            "\n",
            "Trial 1: Min validation loss was: 0.5080\n",
            "\n",
            "------------------------------------------------------------------------------\n",
            "\n",
            "Training for 1000 epochs...\n"
          ]
        },
        {
          "name": "stderr",
          "output_type": "stream",
          "text": [
            "Epochs 0-100: 100%|██████████| 100/100 [00:14<00:00,  6.72 Epochs/s]"
          ]
        },
        {
          "name": "stdout",
          "output_type": "stream",
          "text": [
            "Loss: 1.2586\n"
          ]
        },
        {
          "name": "stderr",
          "output_type": "stream",
          "text": [
            "\n",
            "Epochs 100-200: 100%|██████████| 100/100 [00:14<00:00,  6.68 Epochs/s]"
          ]
        },
        {
          "name": "stdout",
          "output_type": "stream",
          "text": [
            "Loss: 1.1590\n"
          ]
        },
        {
          "name": "stderr",
          "output_type": "stream",
          "text": [
            "\n",
            "Epochs 200-300: 100%|██████████| 100/100 [00:15<00:00,  6.57 Epochs/s]"
          ]
        },
        {
          "name": "stdout",
          "output_type": "stream",
          "text": [
            "Loss: 1.1019\n"
          ]
        },
        {
          "name": "stderr",
          "output_type": "stream",
          "text": [
            "\n",
            "Epochs 300-400: 100%|██████████| 100/100 [00:15<00:00,  6.37 Epochs/s]"
          ]
        },
        {
          "name": "stdout",
          "output_type": "stream",
          "text": [
            "Loss: 1.0930\n"
          ]
        },
        {
          "name": "stderr",
          "output_type": "stream",
          "text": [
            "\n",
            "Epochs 400-500: 100%|██████████| 100/100 [00:15<00:00,  6.38 Epochs/s]"
          ]
        },
        {
          "name": "stdout",
          "output_type": "stream",
          "text": [
            "Loss: 1.0397\n"
          ]
        },
        {
          "name": "stderr",
          "output_type": "stream",
          "text": [
            "\n",
            "Epochs 500-600: 100%|██████████| 100/100 [00:15<00:00,  6.57 Epochs/s]"
          ]
        },
        {
          "name": "stdout",
          "output_type": "stream",
          "text": [
            "Loss: 1.0152\n"
          ]
        },
        {
          "name": "stderr",
          "output_type": "stream",
          "text": [
            "\n",
            "Epochs 600-700: 100%|██████████| 100/100 [00:15<00:00,  6.54 Epochs/s]"
          ]
        },
        {
          "name": "stdout",
          "output_type": "stream",
          "text": [
            "Loss: 1.0074\n"
          ]
        },
        {
          "name": "stderr",
          "output_type": "stream",
          "text": [
            "\n",
            "Epochs 700-800: 100%|██████████| 100/100 [00:15<00:00,  6.44 Epochs/s]"
          ]
        },
        {
          "name": "stdout",
          "output_type": "stream",
          "text": [
            "Loss: 0.9732\n"
          ]
        },
        {
          "name": "stderr",
          "output_type": "stream",
          "text": [
            "\n",
            "Epochs 800-900: 100%|██████████| 100/100 [00:15<00:00,  6.61 Epochs/s]"
          ]
        },
        {
          "name": "stdout",
          "output_type": "stream",
          "text": [
            "Loss: 0.9735\n"
          ]
        },
        {
          "name": "stderr",
          "output_type": "stream",
          "text": [
            "\n",
            "Epochs 900-1000: 100%|██████████| 100/100 [00:14<00:00,  6.67 Epochs/s]"
          ]
        },
        {
          "name": "stdout",
          "output_type": "stream",
          "text": [
            "Loss: 0.9920\n"
          ]
        },
        {
          "name": "stderr",
          "output_type": "stream",
          "text": [
            "\n"
          ]
        },
        {
          "name": "stdout",
          "output_type": "stream",
          "text": [
            "Finished Training\n",
            "\n",
            "\n",
            "------------------------------------------------------------------------------\n",
            "\n",
            "Trial 2: Min validation loss was: 0.5259\n",
            "\n",
            "------------------------------------------------------------------------------\n",
            "\n",
            "Training for 1000 epochs...\n"
          ]
        },
        {
          "name": "stderr",
          "output_type": "stream",
          "text": [
            "Epochs 0-100: 100%|██████████| 100/100 [00:21<00:00,  4.60 Epochs/s]"
          ]
        },
        {
          "name": "stdout",
          "output_type": "stream",
          "text": [
            "Loss: 0.8526\n"
          ]
        },
        {
          "name": "stderr",
          "output_type": "stream",
          "text": [
            "\n",
            "Epochs 100-200: 100%|██████████| 100/100 [00:22<00:00,  4.52 Epochs/s]"
          ]
        },
        {
          "name": "stdout",
          "output_type": "stream",
          "text": [
            "Loss: 0.7046\n"
          ]
        },
        {
          "name": "stderr",
          "output_type": "stream",
          "text": [
            "\n",
            "Epochs 200-300: 100%|██████████| 100/100 [00:21<00:00,  4.61 Epochs/s]"
          ]
        },
        {
          "name": "stdout",
          "output_type": "stream",
          "text": [
            "Loss: 0.6611\n"
          ]
        },
        {
          "name": "stderr",
          "output_type": "stream",
          "text": [
            "\n",
            "Epochs 300-400: 100%|██████████| 100/100 [00:21<00:00,  4.58 Epochs/s]"
          ]
        },
        {
          "name": "stdout",
          "output_type": "stream",
          "text": [
            "Loss: 0.6244\n"
          ]
        },
        {
          "name": "stderr",
          "output_type": "stream",
          "text": [
            "\n",
            "Epochs 400-500: 100%|██████████| 100/100 [00:21<00:00,  4.56 Epochs/s]"
          ]
        },
        {
          "name": "stdout",
          "output_type": "stream",
          "text": [
            "Loss: 0.5821\n"
          ]
        },
        {
          "name": "stderr",
          "output_type": "stream",
          "text": [
            "\n",
            "Epochs 500-600: 100%|██████████| 100/100 [00:21<00:00,  4.55 Epochs/s]"
          ]
        },
        {
          "name": "stdout",
          "output_type": "stream",
          "text": [
            "Loss: 0.5448\n"
          ]
        },
        {
          "name": "stderr",
          "output_type": "stream",
          "text": [
            "\n",
            "Epochs 600-700: 100%|██████████| 100/100 [00:22<00:00,  4.39 Epochs/s]"
          ]
        },
        {
          "name": "stdout",
          "output_type": "stream",
          "text": [
            "Loss: 0.5258\n"
          ]
        },
        {
          "name": "stderr",
          "output_type": "stream",
          "text": [
            "\n",
            "Epochs 700-800: 100%|██████████| 100/100 [00:21<00:00,  4.56 Epochs/s]"
          ]
        },
        {
          "name": "stdout",
          "output_type": "stream",
          "text": [
            "Loss: 0.4998\n"
          ]
        },
        {
          "name": "stderr",
          "output_type": "stream",
          "text": [
            "\n",
            "Epochs 800-900: 100%|██████████| 100/100 [00:21<00:00,  4.61 Epochs/s]"
          ]
        },
        {
          "name": "stdout",
          "output_type": "stream",
          "text": [
            "Loss: 0.4586\n"
          ]
        },
        {
          "name": "stderr",
          "output_type": "stream",
          "text": [
            "\n",
            "Epochs 900-1000: 100%|██████████| 100/100 [00:33<00:00,  3.02 Epochs/s]"
          ]
        },
        {
          "name": "stdout",
          "output_type": "stream",
          "text": [
            "Loss: 0.4629\n"
          ]
        },
        {
          "name": "stderr",
          "output_type": "stream",
          "text": [
            "\n"
          ]
        },
        {
          "name": "stdout",
          "output_type": "stream",
          "text": [
            "Finished Training\n",
            "\n",
            "\n",
            "------------------------------------------------------------------------------\n",
            "\n",
            "Trial 3: Min validation loss was: 0.1147\n",
            "\n",
            "------------------------------------------------------------------------------\n",
            "\n",
            "Training for 1000 epochs...\n"
          ]
        },
        {
          "name": "stderr",
          "output_type": "stream",
          "text": [
            "Epochs 0-100: 100%|██████████| 100/100 [00:29<00:00,  3.41 Epochs/s]"
          ]
        },
        {
          "name": "stdout",
          "output_type": "stream",
          "text": [
            "Loss: 1.4806\n"
          ]
        },
        {
          "name": "stderr",
          "output_type": "stream",
          "text": [
            "\n",
            "Epochs 100-200: 100%|██████████| 100/100 [00:29<00:00,  3.35 Epochs/s]"
          ]
        },
        {
          "name": "stdout",
          "output_type": "stream",
          "text": [
            "Loss: 1.4536\n"
          ]
        },
        {
          "name": "stderr",
          "output_type": "stream",
          "text": [
            "\n",
            "Epochs 200-300: 100%|██████████| 100/100 [00:29<00:00,  3.36 Epochs/s]"
          ]
        },
        {
          "name": "stdout",
          "output_type": "stream",
          "text": [
            "Loss: 1.4135\n"
          ]
        },
        {
          "name": "stderr",
          "output_type": "stream",
          "text": [
            "\n",
            "Epochs 300-400: 100%|██████████| 100/100 [00:30<00:00,  3.26 Epochs/s]"
          ]
        },
        {
          "name": "stdout",
          "output_type": "stream",
          "text": [
            "Loss: 1.3911\n"
          ]
        },
        {
          "name": "stderr",
          "output_type": "stream",
          "text": [
            "\n",
            "Epochs 400-500: 100%|██████████| 100/100 [00:18<00:00,  5.33 Epochs/s]"
          ]
        },
        {
          "name": "stdout",
          "output_type": "stream",
          "text": [
            "Loss: 1.4281\n"
          ]
        },
        {
          "name": "stderr",
          "output_type": "stream",
          "text": [
            "\n",
            "Epochs 500-600: 100%|██████████| 100/100 [00:30<00:00,  3.24 Epochs/s]"
          ]
        },
        {
          "name": "stdout",
          "output_type": "stream",
          "text": [
            "Loss: 1.4483\n"
          ]
        },
        {
          "name": "stderr",
          "output_type": "stream",
          "text": [
            "\n",
            "Epochs 600-700: 100%|██████████| 100/100 [00:30<00:00,  3.33 Epochs/s]"
          ]
        },
        {
          "name": "stdout",
          "output_type": "stream",
          "text": [
            "Loss: 1.4345\n"
          ]
        },
        {
          "name": "stderr",
          "output_type": "stream",
          "text": [
            "\n",
            "Epochs 700-800: 100%|██████████| 100/100 [00:30<00:00,  3.33 Epochs/s]"
          ]
        },
        {
          "name": "stdout",
          "output_type": "stream",
          "text": [
            "Loss: 1.3829\n"
          ]
        },
        {
          "name": "stderr",
          "output_type": "stream",
          "text": [
            "\n",
            "Epochs 800-900: 100%|██████████| 100/100 [00:34<00:00,  2.87 Epochs/s]"
          ]
        },
        {
          "name": "stdout",
          "output_type": "stream",
          "text": [
            "Loss: 1.3954\n"
          ]
        },
        {
          "name": "stderr",
          "output_type": "stream",
          "text": [
            "\n",
            "Epochs 900-1000: 100%|██████████| 100/100 [00:40<00:00,  2.46 Epochs/s]"
          ]
        },
        {
          "name": "stdout",
          "output_type": "stream",
          "text": [
            "Loss: 1.3581\n"
          ]
        },
        {
          "name": "stderr",
          "output_type": "stream",
          "text": [
            "\n"
          ]
        },
        {
          "name": "stdout",
          "output_type": "stream",
          "text": [
            "Finished Training\n",
            "\n",
            "\n",
            "------------------------------------------------------------------------------\n",
            "\n",
            "Trial 4: Min validation loss was: 0.4173\n",
            "\n",
            "------------------------------------------------------------------------------\n",
            "\n",
            "Training for 1000 epochs...\n"
          ]
        },
        {
          "name": "stderr",
          "output_type": "stream",
          "text": [
            "Epochs 0-100: 100%|██████████| 100/100 [00:13<00:00,  7.63 Epochs/s]"
          ]
        },
        {
          "name": "stdout",
          "output_type": "stream",
          "text": [
            "Loss: 1.1759\n"
          ]
        },
        {
          "name": "stderr",
          "output_type": "stream",
          "text": [
            "\n",
            "Epochs 100-200: 100%|██████████| 100/100 [00:12<00:00,  7.97 Epochs/s]"
          ]
        },
        {
          "name": "stdout",
          "output_type": "stream",
          "text": [
            "Loss: 1.0184\n"
          ]
        },
        {
          "name": "stderr",
          "output_type": "stream",
          "text": [
            "\n",
            "Epochs 200-300: 100%|██████████| 100/100 [00:23<00:00,  4.19 Epochs/s]"
          ]
        },
        {
          "name": "stdout",
          "output_type": "stream",
          "text": [
            "Loss: 0.9347\n"
          ]
        },
        {
          "name": "stderr",
          "output_type": "stream",
          "text": [
            "\n",
            "Epochs 300-400: 100%|██████████| 100/100 [00:12<00:00,  7.96 Epochs/s]"
          ]
        },
        {
          "name": "stdout",
          "output_type": "stream",
          "text": [
            "Loss: 0.8970\n"
          ]
        },
        {
          "name": "stderr",
          "output_type": "stream",
          "text": [
            "\n",
            "Epochs 400-500: 100%|██████████| 100/100 [00:12<00:00,  7.85 Epochs/s]"
          ]
        },
        {
          "name": "stdout",
          "output_type": "stream",
          "text": [
            "Loss: 0.9088\n"
          ]
        },
        {
          "name": "stderr",
          "output_type": "stream",
          "text": [
            "\n",
            "Epochs 500-600: 100%|██████████| 100/100 [00:12<00:00,  7.91 Epochs/s]"
          ]
        },
        {
          "name": "stdout",
          "output_type": "stream",
          "text": [
            "Loss: 0.9088\n"
          ]
        },
        {
          "name": "stderr",
          "output_type": "stream",
          "text": [
            "\n",
            "Epochs 600-700: 100%|██████████| 100/100 [00:12<00:00,  7.91 Epochs/s]"
          ]
        },
        {
          "name": "stdout",
          "output_type": "stream",
          "text": [
            "Loss: 0.8352\n"
          ]
        },
        {
          "name": "stderr",
          "output_type": "stream",
          "text": [
            "\n",
            "Epochs 700-800: 100%|██████████| 100/100 [00:12<00:00,  7.97 Epochs/s]"
          ]
        },
        {
          "name": "stdout",
          "output_type": "stream",
          "text": [
            "Loss: 0.9020\n"
          ]
        },
        {
          "name": "stderr",
          "output_type": "stream",
          "text": [
            "\n",
            "Epochs 800-900: 100%|██████████| 100/100 [00:12<00:00,  8.07 Epochs/s]"
          ]
        },
        {
          "name": "stdout",
          "output_type": "stream",
          "text": [
            "Loss: 0.8144\n"
          ]
        },
        {
          "name": "stderr",
          "output_type": "stream",
          "text": [
            "\n",
            "Epochs 900-1000: 100%|██████████| 100/100 [00:12<00:00,  7.95 Epochs/s]"
          ]
        },
        {
          "name": "stdout",
          "output_type": "stream",
          "text": [
            "Loss: 0.8424\n"
          ]
        },
        {
          "name": "stderr",
          "output_type": "stream",
          "text": [
            "\n"
          ]
        },
        {
          "name": "stdout",
          "output_type": "stream",
          "text": [
            "Finished Training\n",
            "\n",
            "\n",
            "------------------------------------------------------------------------------\n",
            "\n",
            "Trial 5: Min validation loss was: 0.3709\n",
            "\n",
            "------------------------------------------------------------------------------\n",
            "\n",
            "Training for 1000 epochs...\n"
          ]
        },
        {
          "name": "stderr",
          "output_type": "stream",
          "text": [
            "Epochs 0-100: 100%|██████████| 100/100 [00:16<00:00,  6.07 Epochs/s]"
          ]
        },
        {
          "name": "stdout",
          "output_type": "stream",
          "text": [
            "Loss: 1.1385\n"
          ]
        },
        {
          "name": "stderr",
          "output_type": "stream",
          "text": [
            "\n",
            "Epochs 100-200: 100%|██████████| 100/100 [00:17<00:00,  5.85 Epochs/s]"
          ]
        },
        {
          "name": "stdout",
          "output_type": "stream",
          "text": [
            "Loss: 0.9913\n"
          ]
        },
        {
          "name": "stderr",
          "output_type": "stream",
          "text": [
            "\n",
            "Epochs 200-300: 100%|██████████| 100/100 [00:16<00:00,  6.16 Epochs/s]"
          ]
        },
        {
          "name": "stdout",
          "output_type": "stream",
          "text": [
            "Loss: 0.9193\n"
          ]
        },
        {
          "name": "stderr",
          "output_type": "stream",
          "text": [
            "\n",
            "Epochs 300-400: 100%|██████████| 100/100 [00:16<00:00,  6.06 Epochs/s]"
          ]
        },
        {
          "name": "stdout",
          "output_type": "stream",
          "text": [
            "Loss: 0.8965\n"
          ]
        },
        {
          "name": "stderr",
          "output_type": "stream",
          "text": [
            "\n",
            "Epochs 400-500: 100%|██████████| 100/100 [00:16<00:00,  6.07 Epochs/s]"
          ]
        },
        {
          "name": "stdout",
          "output_type": "stream",
          "text": [
            "Loss: 0.8770\n"
          ]
        },
        {
          "name": "stderr",
          "output_type": "stream",
          "text": [
            "\n",
            "Epochs 500-600: 100%|██████████| 100/100 [00:16<00:00,  5.91 Epochs/s]"
          ]
        },
        {
          "name": "stdout",
          "output_type": "stream",
          "text": [
            "Loss: 0.8571\n"
          ]
        },
        {
          "name": "stderr",
          "output_type": "stream",
          "text": [
            "\n",
            "Epochs 600-700: 100%|██████████| 100/100 [00:16<00:00,  6.08 Epochs/s]"
          ]
        },
        {
          "name": "stdout",
          "output_type": "stream",
          "text": [
            "Loss: 0.8491\n"
          ]
        },
        {
          "name": "stderr",
          "output_type": "stream",
          "text": [
            "\n",
            "Epochs 700-800: 100%|██████████| 100/100 [00:16<00:00,  5.98 Epochs/s]"
          ]
        },
        {
          "name": "stdout",
          "output_type": "stream",
          "text": [
            "Loss: 0.8205\n"
          ]
        },
        {
          "name": "stderr",
          "output_type": "stream",
          "text": [
            "\n",
            "Epochs 800-900: 100%|██████████| 100/100 [00:16<00:00,  5.98 Epochs/s]"
          ]
        },
        {
          "name": "stdout",
          "output_type": "stream",
          "text": [
            "Loss: 0.8370\n"
          ]
        },
        {
          "name": "stderr",
          "output_type": "stream",
          "text": [
            "\n",
            "Epochs 900-1000: 100%|██████████| 100/100 [00:16<00:00,  6.01 Epochs/s]"
          ]
        },
        {
          "name": "stdout",
          "output_type": "stream",
          "text": [
            "Loss: 0.8112\n"
          ]
        },
        {
          "name": "stderr",
          "output_type": "stream",
          "text": [
            "\n"
          ]
        },
        {
          "name": "stdout",
          "output_type": "stream",
          "text": [
            "Finished Training\n",
            "\n",
            "\n",
            "------------------------------------------------------------------------------\n",
            "\n",
            "Trial 6: Min validation loss was: 0.6042\n",
            "\n",
            "------------------------------------------------------------------------------\n",
            "\n",
            "Training for 1000 epochs...\n"
          ]
        },
        {
          "name": "stderr",
          "output_type": "stream",
          "text": [
            "Epochs 0-100: 100%|██████████| 100/100 [00:10<00:00,  9.44 Epochs/s]"
          ]
        },
        {
          "name": "stdout",
          "output_type": "stream",
          "text": [
            "Loss: 1.1117\n"
          ]
        },
        {
          "name": "stderr",
          "output_type": "stream",
          "text": [
            "\n",
            "Epochs 100-200: 100%|██████████| 100/100 [00:10<00:00,  9.71 Epochs/s]"
          ]
        },
        {
          "name": "stdout",
          "output_type": "stream",
          "text": [
            "Loss: 0.9880\n"
          ]
        },
        {
          "name": "stderr",
          "output_type": "stream",
          "text": [
            "\n",
            "Epochs 200-300: 100%|██████████| 100/100 [00:10<00:00,  9.56 Epochs/s]"
          ]
        },
        {
          "name": "stdout",
          "output_type": "stream",
          "text": [
            "Loss: 0.8404\n"
          ]
        },
        {
          "name": "stderr",
          "output_type": "stream",
          "text": [
            "\n",
            "Epochs 300-400: 100%|██████████| 100/100 [00:10<00:00,  9.50 Epochs/s]"
          ]
        },
        {
          "name": "stdout",
          "output_type": "stream",
          "text": [
            "Loss: 0.6879\n"
          ]
        },
        {
          "name": "stderr",
          "output_type": "stream",
          "text": [
            "\n",
            "Epochs 400-500: 100%|██████████| 100/100 [00:10<00:00,  9.61 Epochs/s]"
          ]
        },
        {
          "name": "stdout",
          "output_type": "stream",
          "text": [
            "Loss: 0.6079\n"
          ]
        },
        {
          "name": "stderr",
          "output_type": "stream",
          "text": [
            "\n",
            "Epochs 500-600: 100%|██████████| 100/100 [00:10<00:00,  9.70 Epochs/s]"
          ]
        },
        {
          "name": "stdout",
          "output_type": "stream",
          "text": [
            "Loss: 0.5023\n"
          ]
        },
        {
          "name": "stderr",
          "output_type": "stream",
          "text": [
            "\n",
            "Epochs 600-700: 100%|██████████| 100/100 [00:10<00:00,  9.76 Epochs/s]"
          ]
        },
        {
          "name": "stdout",
          "output_type": "stream",
          "text": [
            "Loss: 0.4672\n"
          ]
        },
        {
          "name": "stderr",
          "output_type": "stream",
          "text": [
            "\n",
            "Epochs 700-800: 100%|██████████| 100/100 [00:10<00:00,  9.76 Epochs/s]"
          ]
        },
        {
          "name": "stdout",
          "output_type": "stream",
          "text": [
            "Loss: 0.4099\n"
          ]
        },
        {
          "name": "stderr",
          "output_type": "stream",
          "text": [
            "\n",
            "Epochs 800-900: 100%|██████████| 100/100 [00:10<00:00,  9.78 Epochs/s]"
          ]
        },
        {
          "name": "stdout",
          "output_type": "stream",
          "text": [
            "Loss: 0.3363\n"
          ]
        },
        {
          "name": "stderr",
          "output_type": "stream",
          "text": [
            "\n",
            "Epochs 900-1000: 100%|██████████| 100/100 [00:21<00:00,  4.62 Epochs/s]"
          ]
        },
        {
          "name": "stdout",
          "output_type": "stream",
          "text": [
            "Loss: 0.2647\n"
          ]
        },
        {
          "name": "stderr",
          "output_type": "stream",
          "text": [
            "\n"
          ]
        },
        {
          "name": "stdout",
          "output_type": "stream",
          "text": [
            "Finished Training\n",
            "\n",
            "\n",
            "------------------------------------------------------------------------------\n",
            "\n",
            "Trial 7: Min validation loss was: 0.4712\n",
            "\n",
            "------------------------------------------------------------------------------\n",
            "\n",
            "Training for 1000 epochs...\n"
          ]
        },
        {
          "name": "stderr",
          "output_type": "stream",
          "text": [
            "Epochs 0-100: 100%|██████████| 100/100 [00:12<00:00,  8.18 Epochs/s]"
          ]
        },
        {
          "name": "stdout",
          "output_type": "stream",
          "text": [
            "Loss: 1.2942\n"
          ]
        },
        {
          "name": "stderr",
          "output_type": "stream",
          "text": [
            "\n",
            "Epochs 100-200: 100%|██████████| 100/100 [00:12<00:00,  8.21 Epochs/s]"
          ]
        },
        {
          "name": "stdout",
          "output_type": "stream",
          "text": [
            "Loss: 1.1192\n"
          ]
        },
        {
          "name": "stderr",
          "output_type": "stream",
          "text": [
            "\n",
            "Epochs 200-300: 100%|██████████| 100/100 [00:12<00:00,  8.15 Epochs/s]"
          ]
        },
        {
          "name": "stdout",
          "output_type": "stream",
          "text": [
            "Loss: 1.0425\n"
          ]
        },
        {
          "name": "stderr",
          "output_type": "stream",
          "text": [
            "\n",
            "Epochs 300-400: 100%|██████████| 100/100 [00:12<00:00,  8.09 Epochs/s]"
          ]
        },
        {
          "name": "stdout",
          "output_type": "stream",
          "text": [
            "Loss: 1.0347\n"
          ]
        },
        {
          "name": "stderr",
          "output_type": "stream",
          "text": [
            "\n",
            "Epochs 400-500: 100%|██████████| 100/100 [00:12<00:00,  7.79 Epochs/s]"
          ]
        },
        {
          "name": "stdout",
          "output_type": "stream",
          "text": [
            "Loss: 0.9973\n"
          ]
        },
        {
          "name": "stderr",
          "output_type": "stream",
          "text": [
            "\n",
            "Epochs 500-600: 100%|██████████| 100/100 [00:16<00:00,  5.99 Epochs/s]"
          ]
        },
        {
          "name": "stdout",
          "output_type": "stream",
          "text": [
            "Loss: 0.9785\n"
          ]
        },
        {
          "name": "stderr",
          "output_type": "stream",
          "text": [
            "\n",
            "Epochs 600-700: 100%|██████████| 100/100 [00:14<00:00,  6.67 Epochs/s]"
          ]
        },
        {
          "name": "stdout",
          "output_type": "stream",
          "text": [
            "Loss: 0.9709\n"
          ]
        },
        {
          "name": "stderr",
          "output_type": "stream",
          "text": [
            "\n",
            "Epochs 700-800: 100%|██████████| 100/100 [00:11<00:00,  8.50 Epochs/s]"
          ]
        },
        {
          "name": "stdout",
          "output_type": "stream",
          "text": [
            "Loss: 0.9590\n"
          ]
        },
        {
          "name": "stderr",
          "output_type": "stream",
          "text": [
            "\n",
            "Epochs 800-900: 100%|██████████| 100/100 [00:11<00:00,  8.45 Epochs/s]"
          ]
        },
        {
          "name": "stdout",
          "output_type": "stream",
          "text": [
            "Loss: 0.8973\n"
          ]
        },
        {
          "name": "stderr",
          "output_type": "stream",
          "text": [
            "\n",
            "Epochs 900-1000: 100%|██████████| 100/100 [00:12<00:00,  8.11 Epochs/s]"
          ]
        },
        {
          "name": "stdout",
          "output_type": "stream",
          "text": [
            "Loss: 0.9168\n"
          ]
        },
        {
          "name": "stderr",
          "output_type": "stream",
          "text": [
            "\n"
          ]
        },
        {
          "name": "stdout",
          "output_type": "stream",
          "text": [
            "Finished Training\n",
            "\n",
            "\n",
            "------------------------------------------------------------------------------\n",
            "\n",
            "Trial 8: Min validation loss was: 0.6010\n",
            "\n",
            "------------------------------------------------------------------------------\n",
            "\n",
            "Training for 1000 epochs...\n"
          ]
        },
        {
          "name": "stderr",
          "output_type": "stream",
          "text": [
            "Epochs 0-100: 100%|██████████| 100/100 [00:25<00:00,  3.91 Epochs/s]"
          ]
        },
        {
          "name": "stdout",
          "output_type": "stream",
          "text": [
            "Loss: 1.1418\n"
          ]
        },
        {
          "name": "stderr",
          "output_type": "stream",
          "text": [
            "\n",
            "Epochs 100-200: 100%|██████████| 100/100 [00:24<00:00,  4.10 Epochs/s]"
          ]
        },
        {
          "name": "stdout",
          "output_type": "stream",
          "text": [
            "Loss: 1.0315\n"
          ]
        },
        {
          "name": "stderr",
          "output_type": "stream",
          "text": [
            "\n",
            "Epochs 200-300: 100%|██████████| 100/100 [00:24<00:00,  4.02 Epochs/s]"
          ]
        },
        {
          "name": "stdout",
          "output_type": "stream",
          "text": [
            "Loss: 1.0561\n"
          ]
        },
        {
          "name": "stderr",
          "output_type": "stream",
          "text": [
            "\n",
            "Epochs 300-400: 100%|██████████| 100/100 [00:31<00:00,  3.18 Epochs/s]"
          ]
        },
        {
          "name": "stdout",
          "output_type": "stream",
          "text": [
            "Loss: 0.9777\n"
          ]
        },
        {
          "name": "stderr",
          "output_type": "stream",
          "text": [
            "\n",
            "Epochs 400-500: 100%|██████████| 100/100 [00:24<00:00,  4.07 Epochs/s]"
          ]
        },
        {
          "name": "stdout",
          "output_type": "stream",
          "text": [
            "Loss: 0.9839\n"
          ]
        },
        {
          "name": "stderr",
          "output_type": "stream",
          "text": [
            "\n",
            "Epochs 500-600: 100%|██████████| 100/100 [00:24<00:00,  4.16 Epochs/s]"
          ]
        },
        {
          "name": "stdout",
          "output_type": "stream",
          "text": [
            "Loss: 0.9672\n"
          ]
        },
        {
          "name": "stderr",
          "output_type": "stream",
          "text": [
            "\n",
            "Epochs 600-700: 100%|██████████| 100/100 [00:27<00:00,  3.65 Epochs/s]"
          ]
        },
        {
          "name": "stdout",
          "output_type": "stream",
          "text": [
            "Loss: 0.9185\n"
          ]
        },
        {
          "name": "stderr",
          "output_type": "stream",
          "text": [
            "\n",
            "Epochs 700-800: 100%|██████████| 100/100 [00:28<00:00,  3.53 Epochs/s]"
          ]
        },
        {
          "name": "stdout",
          "output_type": "stream",
          "text": [
            "Loss: 0.9069\n"
          ]
        },
        {
          "name": "stderr",
          "output_type": "stream",
          "text": [
            "\n",
            "Epochs 800-900: 100%|██████████| 100/100 [00:24<00:00,  4.05 Epochs/s]"
          ]
        },
        {
          "name": "stdout",
          "output_type": "stream",
          "text": [
            "Loss: 0.9376\n"
          ]
        },
        {
          "name": "stderr",
          "output_type": "stream",
          "text": [
            "\n",
            "Epochs 900-1000: 100%|██████████| 100/100 [00:23<00:00,  4.17 Epochs/s]"
          ]
        },
        {
          "name": "stdout",
          "output_type": "stream",
          "text": [
            "Loss: 0.9413\n"
          ]
        },
        {
          "name": "stderr",
          "output_type": "stream",
          "text": [
            "\n"
          ]
        },
        {
          "name": "stdout",
          "output_type": "stream",
          "text": [
            "Finished Training\n",
            "\n",
            "\n",
            "------------------------------------------------------------------------------\n",
            "\n",
            "Trial 9: Min validation loss was: 0.3427\n",
            "\n",
            "------------------------------------------------------------------------------\n",
            "\n",
            "Best hyperparameters:\n",
            "\n",
            "dropout_p: 0.2966277798229542\n",
            "batch_size: 16\n",
            "n_layers: 1\n",
            "lr: 0.006835733739791656\n",
            "weight_decay: 0.022233599052813944\n",
            "Neurons in layer 0: 19\n",
            "\n"
          ]
        }
      ],
      "source": [
        "tune()"
      ]
    },
    {
      "cell_type": "code",
      "execution_count": null,
      "metadata": {},
      "outputs": [
        {
          "name": "stdout",
          "output_type": "stream",
          "text": [
            "Training for 1000 epochs...\n"
          ]
        },
        {
          "name": "stderr",
          "output_type": "stream",
          "text": [
            "Epochs 0-100: 100%|██████████| 100/100 [00:11<00:00,  8.67 Epochs/s]"
          ]
        },
        {
          "name": "stdout",
          "output_type": "stream",
          "text": [
            "Loss: 1.5014\n"
          ]
        },
        {
          "name": "stderr",
          "output_type": "stream",
          "text": [
            "\n",
            "Epochs 100-200: 100%|██████████| 100/100 [00:11<00:00,  8.93 Epochs/s]"
          ]
        },
        {
          "name": "stdout",
          "output_type": "stream",
          "text": [
            "Loss: 1.4285\n"
          ]
        },
        {
          "name": "stderr",
          "output_type": "stream",
          "text": [
            "\n",
            "Epochs 200-300: 100%|██████████| 100/100 [00:11<00:00,  9.02 Epochs/s]"
          ]
        },
        {
          "name": "stdout",
          "output_type": "stream",
          "text": [
            "Loss: 1.4742\n"
          ]
        },
        {
          "name": "stderr",
          "output_type": "stream",
          "text": [
            "\n",
            "Epochs 300-400: 100%|██████████| 100/100 [00:22<00:00,  4.48 Epochs/s]"
          ]
        },
        {
          "name": "stdout",
          "output_type": "stream",
          "text": [
            "Loss: 1.4299\n"
          ]
        },
        {
          "name": "stderr",
          "output_type": "stream",
          "text": [
            "\n",
            "Epochs 400-500: 100%|██████████| 100/100 [00:11<00:00,  8.73 Epochs/s]"
          ]
        },
        {
          "name": "stdout",
          "output_type": "stream",
          "text": [
            "Loss: 1.4292\n"
          ]
        },
        {
          "name": "stderr",
          "output_type": "stream",
          "text": [
            "\n",
            "Epochs 500-600: 100%|██████████| 100/100 [00:11<00:00,  9.01 Epochs/s]"
          ]
        },
        {
          "name": "stdout",
          "output_type": "stream",
          "text": [
            "Loss: 1.4786\n"
          ]
        },
        {
          "name": "stderr",
          "output_type": "stream",
          "text": [
            "\n",
            "Epochs 600-700: 100%|██████████| 100/100 [00:11<00:00,  8.98 Epochs/s]"
          ]
        },
        {
          "name": "stdout",
          "output_type": "stream",
          "text": [
            "Loss: 1.4746\n"
          ]
        },
        {
          "name": "stderr",
          "output_type": "stream",
          "text": [
            "\n",
            "Epochs 700-800: 100%|██████████| 100/100 [00:11<00:00,  8.50 Epochs/s]"
          ]
        },
        {
          "name": "stdout",
          "output_type": "stream",
          "text": [
            "Loss: 1.4777\n"
          ]
        },
        {
          "name": "stderr",
          "output_type": "stream",
          "text": [
            "\n",
            "Epochs 800-900: 100%|██████████| 100/100 [00:11<00:00,  8.48 Epochs/s]"
          ]
        },
        {
          "name": "stdout",
          "output_type": "stream",
          "text": [
            "Loss: 1.5204\n"
          ]
        },
        {
          "name": "stderr",
          "output_type": "stream",
          "text": [
            "\n",
            "Epochs 900-1000: 100%|██████████| 100/100 [00:11<00:00,  8.66 Epochs/s]"
          ]
        },
        {
          "name": "stdout",
          "output_type": "stream",
          "text": [
            "Loss: 1.5888\n"
          ]
        },
        {
          "name": "stderr",
          "output_type": "stream",
          "text": [
            "\n"
          ]
        },
        {
          "name": "stdout",
          "output_type": "stream",
          "text": [
            "Finished Training\n",
            "Min val loss was 1.0195\n",
            "\n",
            "------------------------------------------------------------------------------\n",
            "\n",
            "Evaluating on the test set...\n",
            "Test Loss: 1.1721\n",
            "\n",
            "Classification Report:\n",
            "              precision    recall  f1-score   support\n",
            "\n",
            "       Anger       0.30      1.00      0.46        20\n",
            "     Disgust       0.00      0.00      0.00        27\n",
            "        Fear       0.27      0.36      0.31        11\n",
            "   Happiness       0.72      0.74      0.73        31\n",
            "     Sadness       0.00      0.00      0.00        13\n",
            "    Surprise       0.94      0.79      0.86        38\n",
            "    Contempt       0.00      0.00      0.00         8\n",
            "\n",
            "    accuracy                           0.52       148\n",
            "   macro avg       0.32      0.41      0.34       148\n",
            "weighted avg       0.45      0.52      0.46       148\n",
            "\n"
          ]
        },
        {
          "data": {
            "image/png": "[encoded data removed]",
            "text/plain": [
              "<Figure size 640x480 with 1 Axes>"
            ]
          },
          "metadata": {},
          "output_type": "display_data"
        },
        {
          "data": {
            "image/png": "[encoded data removed]",
            "text/plain": [
              "<Figure size 640x480 with 2 Axes>"
            ]
          },
          "metadata": {},
          "output_type": "display_data"
        }
      ],
      "source": [
        "# Train with optimal hyperparameters\n",
        "\n",
        "epochs = 1000\n",
        "\n",
        "# ----------------------------------------------------------------------------\n",
        "# Enter optimal hyperparameters here\n",
        "dropout_p = 0.2966277798229542\n",
        "batch_size = 16\n",
        "n_layers = 1\n",
        "neuron_counts = [19]\n",
        "lr = 0.006835733739791656\n",
        "weight_decay = 0.022233599052813944 \n",
        "# ----------------------------------------------------------------------------\n",
        "\n",
        "input_dim = 25\n",
        "output_dim = 7\n",
        "layers = []\n",
        "in_features = input_dim\n",
        "for i in range(n_layers):\n",
        "    out_features = neuron_counts[i]\n",
        "    layers.append((in_features, out_features))\n",
        "    in_features = out_features\n",
        "            \n",
        "layers.append((in_features, output_dim))\n",
        "\n",
        "config = Config(dropout_p=dropout_p,\n",
        "                    batch_size=batch_size,\n",
        "                    lr=lr,\n",
        "                    weight_decay=weight_decay)\n",
        "\n",
        "trainloader, valloader, testloader = create_loaders(config.batch_size)\n",
        "mlp = build_mlp(config, layers).to(device)\n",
        "criterion = nn.CrossEntropyLoss()\n",
        "optimizer = optim.AdamW(mlp.parameters(), lr=config.lr, weight_decay=config.weight_decay)\n",
        "min_val_loss = train(mlp, epochs, trainloader, valloader, criterion, optimizer)\n",
        "eval(mlp, testloader, criterion, optimizer)"
      ]
    }
  ],
  "metadata": {
    "accelerator": "GPU",
    "colab": {
      "gpuType": "T4",
      "provenance": []
    },
    "kernelspec": {
      "display_name": ".venv",
      "language": "python",
      "name": "python3"
    },
    "language_info": {
      "codemirror_mode": {
        "name": "ipython",
        "version": 3
      },
      "file_extension": ".py",
      "mimetype": "text/x-python",
      "name": "python",
      "nbconvert_exporter": "python",
      "pygments_lexer": "ipython3",
      "version": "3.12.3"
    }
  },
  "nbformat": 4,
  "nbformat_minor": 0
}
